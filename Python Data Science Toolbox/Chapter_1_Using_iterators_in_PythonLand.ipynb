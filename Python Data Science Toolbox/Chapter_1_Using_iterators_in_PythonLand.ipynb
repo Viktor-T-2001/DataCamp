{
  "nbformat": 4,
  "nbformat_minor": 0,
  "metadata": {
    "colab": {
      "provenance": []
    },
    "kernelspec": {
      "name": "python3",
      "display_name": "Python 3"
    },
    "language_info": {
      "name": "python"
    }
  },
  "cells": [
    {
      "cell_type": "markdown",
      "source": [
        "# **Python Data Science Toolbox (Part 2)**"
      ],
      "metadata": {
        "id": "d-cx9DW_UjO3"
      }
    },
    {
      "cell_type": "markdown",
      "source": [
        "## **Chapter 1 - Using iterators in PythonLand**"
      ],
      "metadata": {
        "id": "2KVJEmEqUwu2"
      }
    },
    {
      "cell_type": "markdown",
      "source": [
        "You'll learn all about iterators and iterables, which you have already worked with when writing for loops. You'll learn some handy functions that will allow you to effectively work with iterators. And you’ll finish the chapter with a use case that is pertinent to the world of data science and dealing with large amounts of data—in this case, data from Twitter that you will load in chunks using iterators."
      ],
      "metadata": {
        "id": "zTvrUn0YUtNH"
      }
    },
    {
      "cell_type": "markdown",
      "source": [
        "#### **Iterating over iterables (1)**"
      ],
      "metadata": {
        "id": "YrVWliQBaUwB"
      }
    },
    {
      "cell_type": "markdown",
      "source": [
        "Great, you're familiar with what iterables and iterators are! In this exercise, you will reinforce your knowledge about these by iterating over and printing from iterables and iterators.\n",
        "\n",
        "You are provided with a list of strings flash. You will practice iterating over the list by using a for loop. You will also create an iterator for the list and access the values from the iterator."
      ],
      "metadata": {
        "id": "6NIopAy1aO1T"
      }
    },
    {
      "cell_type": "markdown",
      "source": [],
      "metadata": {
        "id": "AELfsJQNU0iP"
      }
    },
    {
      "cell_type": "code",
      "execution_count": 2,
      "metadata": {
        "colab": {
          "base_uri": "https://localhost:8080/"
        },
        "id": "d6qHbQ-HUeiC",
        "outputId": "1afac92d-fcc2-4d53-ff04-8efc46df380f"
      },
      "outputs": [
        {
          "output_type": "stream",
          "name": "stdout",
          "text": [
            "jay garrick\n",
            "barry allen\n",
            "wally west\n",
            "bart allen\n",
            "\n",
            "jay garrick\n",
            "barry allen\n",
            "wally west\n",
            "bart allen\n"
          ]
        }
      ],
      "source": [
        "# Create a list of strings: flash\n",
        "flash = ['jay garrick', 'barry allen', 'wally west', 'bart allen']\n",
        "\n",
        "# Print each list item in flash using a for loop\n",
        "for person in flash:\n",
        "    print(person)\n",
        "\n",
        "# Create an iterator for flash: superhero\n",
        "superhero = iter(flash)\n",
        "\n",
        "# Print each item from the iterator\n",
        "print()\n",
        "print(next(superhero))\n",
        "print(next(superhero))\n",
        "print(next(superhero))\n",
        "print(next(superhero))"
      ]
    },
    {
      "cell_type": "code",
      "source": [
        "superhero = iter(flash)\n",
        "print(*superhero)"
      ],
      "metadata": {
        "colab": {
          "base_uri": "https://localhost:8080/"
        },
        "id": "qJzvnZYfeQP9",
        "outputId": "6e39300d-b8e5-4726-90a7-45f07af89805"
      },
      "execution_count": 6,
      "outputs": [
        {
          "output_type": "stream",
          "name": "stdout",
          "text": [
            "jay garrick barry allen wally west bart allen\n"
          ]
        }
      ]
    },
    {
      "cell_type": "markdown",
      "source": [
        "#### **Iterating over iterables (2)**"
      ],
      "metadata": {
        "id": "wxTwc9_xax7X"
      }
    },
    {
      "cell_type": "markdown",
      "source": [
        "\n",
        "One of the things you learned about in this chapter is that not all iterables are actual lists. A couple of examples that we looked at are strings and the use of the range() function. In this exercise, we will focus on the range() function.\n",
        "\n",
        "You can use range() in a for loop as if it's a list to be iterated over:\n",
        "```\n",
        "for i in range(5):\n",
        "    print(i)\n",
        "```    \n",
        "Recall that range() doesn't actually create the list; instead, it creates a range object with an iterator that produces the values until it reaches the limit (in the example, until the value 4). If range() created the actual list, calling it with a value of 10^100 may not work, especially since a number as big as that may go over a regular computer's memory. Your task for this exercise is to show that calling range() with 10^100 won't actually pre-create the list."
      ],
      "metadata": {
        "id": "XksOGQeUaoGX"
      }
    },
    {
      "cell_type": "code",
      "source": [
        "# Create an iterator for range(3): small_value\n",
        "small_value = iter(range(3))\n",
        "\n",
        "# Print the values in small_value\n",
        "print(next(small_value))\n",
        "print(next(small_value))\n",
        "print(next(small_value))\n",
        "\n",
        "# Loop over range(3) and print the values\n",
        "for num in range(3):\n",
        "    print(num)\n",
        "\n",
        "# Create an iterator for range(10 ** 100): googol\n",
        "googol = iter(range(10**100))\n",
        "\n",
        "# Print the first 5 values from googol\n",
        "print(next(googol))\n",
        "print(next(googol))\n",
        "print(next(googol))\n",
        "print(next(googol))\n",
        "print(next(googol))"
      ],
      "metadata": {
        "colab": {
          "base_uri": "https://localhost:8080/"
        },
        "id": "sDwYeTsuaX3V",
        "outputId": "23418712-ae00-4473-e42f-6f2342c59376"
      },
      "execution_count": 3,
      "outputs": [
        {
          "output_type": "stream",
          "name": "stdout",
          "text": [
            "0\n",
            "1\n",
            "2\n",
            "0\n",
            "1\n",
            "2\n",
            "0\n",
            "1\n",
            "2\n",
            "3\n",
            "4\n"
          ]
        }
      ]
    },
    {
      "cell_type": "markdown",
      "source": [
        "#### **Iterators as function arguments**"
      ],
      "metadata": {
        "id": "B7t2YdvnbTpn"
      }
    },
    {
      "cell_type": "markdown",
      "source": [
        "\n",
        "You've been using the iter() function to get an iterator object, as well as the next() function to retrieve the values one by one from the iterator object.\n",
        "\n",
        "There are also functions that take iterators and iterables as arguments. For example, the list() and sum() functions return a list and the sum of elements, respectively.\n",
        "\n",
        "In this exercise, you will use these functions by passing an iterable from range() and then printing the results of the function calls."
      ],
      "metadata": {
        "id": "xq948u-BbTwI"
      }
    },
    {
      "cell_type": "code",
      "source": [
        "# Create a range object: values\n",
        "values = range(10,21)\n",
        "\n",
        "# Print the range object\n",
        "print(values)\n",
        "\n",
        "# Create a list of integers: values_list\n",
        "values_list = list(values)\n",
        "\n",
        "# Print values_list\n",
        "print(values_list)\n",
        "\n",
        "# Get the sum of values: values_sum\n",
        "values_sum = sum(values)\n",
        "\n",
        "# Print values_sum\n",
        "print(values_sum)"
      ],
      "metadata": {
        "colab": {
          "base_uri": "https://localhost:8080/"
        },
        "id": "rh148nGqbRpG",
        "outputId": "f4f4bc3e-e7dc-4461-9c64-82ba77dbf2ef"
      },
      "execution_count": 4,
      "outputs": [
        {
          "output_type": "stream",
          "name": "stdout",
          "text": [
            "range(10, 21)\n",
            "[10, 11, 12, 13, 14, 15, 16, 17, 18, 19, 20]\n",
            "165\n"
          ]
        }
      ]
    },
    {
      "cell_type": "markdown",
      "source": [
        "#### **Using enumerate**"
      ],
      "metadata": {
        "id": "8ANQszWjea_n"
      }
    },
    {
      "cell_type": "markdown",
      "source": [
        "\n",
        "You've just gained several new ideas on iterators from the last video and one of them is the enumerate() function. Recall that enumerate() returns an enumerate object that produces a sequence of tuples, and each of the tuples is an index-value pair.\n",
        "\n",
        "In this exercise, you are given a list of strings mutants and you will practice using enumerate() on it by printing out a list of tuples and unpacking the tuples using a for loop."
      ],
      "metadata": {
        "id": "LtuTeVWTebGW"
      }
    },
    {
      "cell_type": "code",
      "source": [
        "# Create a list of strings: mutants\n",
        "mutants = ['charles xavier', \n",
        "            'bobby drake', \n",
        "            'kurt wagner', \n",
        "            'max eisenhardt', \n",
        "            'kitty pryde']\n",
        "\n",
        "# Create a list of tuples: mutant_list\n",
        "mutant_list = list(enumerate(mutants))\n",
        "\n",
        "# Print the list of tuples\n",
        "print(mutant_list)\n",
        "\n",
        "# Unpack and print the tuple pairs\n",
        "for index1, value1 in enumerate(mutants):\n",
        "    print(index1, value1)\n",
        "\n",
        "# Change the start index\n",
        "for index2, value2 in enumerate(mutants, start = 1):\n",
        "    print(index2, value2)\n"
      ],
      "metadata": {
        "colab": {
          "base_uri": "https://localhost:8080/"
        },
        "id": "jc04fiwqboXM",
        "outputId": "b7b2be14-1749-4619-8bd8-d24f14abdb6a"
      },
      "execution_count": 7,
      "outputs": [
        {
          "output_type": "stream",
          "name": "stdout",
          "text": [
            "[(0, 'charles xavier'), (1, 'bobby drake'), (2, 'kurt wagner'), (3, 'max eisenhardt'), (4, 'kitty pryde')]\n",
            "0 charles xavier\n",
            "1 bobby drake\n",
            "2 kurt wagner\n",
            "3 max eisenhardt\n",
            "4 kitty pryde\n",
            "1 charles xavier\n",
            "2 bobby drake\n",
            "3 kurt wagner\n",
            "4 max eisenhardt\n",
            "5 kitty pryde\n"
          ]
        }
      ]
    },
    {
      "cell_type": "markdown",
      "source": [
        "#### **Using zip**"
      ],
      "metadata": {
        "id": "whHMk1E0oJNS"
      }
    },
    {
      "cell_type": "markdown",
      "source": [
        "\n",
        "Another interesting function that you've learned is zip(), which takes any number of iterables and returns a zip object that is an iterator of tuples. If you wanted to print the values of a zip object, you can convert it into a list and then print it. Printing just a zip object will not return the values unless you unpack it first. In this exercise, you will explore this for yourself.\n",
        "\n",
        "Three lists of strings are pre-loaded: mutants, aliases, and powers. First, you will use list() and zip() on these lists to generate a list of tuples. Then, you will create a zip object using zip(). Finally, you will unpack this zip object in a for loop to print the values in each tuple. Observe the different output generated by printing the list of tuples, then the zip object, and finally, the tuple values in the for loop."
      ],
      "metadata": {
        "id": "oAJ0uHF2oJP7"
      }
    },
    {
      "cell_type": "code",
      "source": [
        "mutants = ['charles xavier', 'bobby drake', 'kurt wagner', 'max eisenhardt', 'kitty pryde']\n",
        "aliases = ['prof x', 'iceman', 'nightcrawler', 'magneto', 'shadowcat']\n",
        "powers = ['telepathy', 'thermokinesis', 'teleportation', 'magnetokinesis', 'intangibility']"
      ],
      "metadata": {
        "id": "aHnAJkYToHte"
      },
      "execution_count": 8,
      "outputs": []
    },
    {
      "cell_type": "code",
      "source": [
        "# Create a list of tuples: mutant_data\n",
        "mutant_data = list(zip(mutants,aliases,powers))\n",
        "\n",
        "# Print the list of tuples\n",
        "print(mutant_data)"
      ],
      "metadata": {
        "colab": {
          "base_uri": "https://localhost:8080/"
        },
        "id": "GFzwS-JMn2p4",
        "outputId": "21bbe420-242b-48dc-bd2c-798a047638ca"
      },
      "execution_count": 10,
      "outputs": [
        {
          "output_type": "stream",
          "name": "stdout",
          "text": [
            "[('charles xavier', 'prof x', 'telepathy'), ('bobby drake', 'iceman', 'thermokinesis'), ('kurt wagner', 'nightcrawler', 'teleportation'), ('max eisenhardt', 'magneto', 'magnetokinesis'), ('kitty pryde', 'shadowcat', 'intangibility')]\n"
          ]
        }
      ]
    },
    {
      "cell_type": "code",
      "source": [
        "# Create a zip object using the three lists: mutant_zip\n",
        "mutant_zip = zip(mutants,aliases,powers)\n",
        "\n",
        "# Print the zip object\n",
        "print(mutant_zip)"
      ],
      "metadata": {
        "colab": {
          "base_uri": "https://localhost:8080/"
        },
        "id": "WPZF-nt2p9vX",
        "outputId": "6fe468f1-e8e3-4b62-b306-3cdfcc7a682f"
      },
      "execution_count": 11,
      "outputs": [
        {
          "output_type": "stream",
          "name": "stdout",
          "text": [
            "<zip object at 0x7f8631efa280>\n"
          ]
        }
      ]
    },
    {
      "cell_type": "code",
      "source": [
        "# Unpack the zip object and print the tuple values\n",
        "for value1,value2,value3 in mutant_zip:\n",
        "    print(value1, value2, value3)"
      ],
      "metadata": {
        "colab": {
          "base_uri": "https://localhost:8080/"
        },
        "id": "4Z6x19n5qEke",
        "outputId": "c915f872-01da-4499-ba5d-8d3bc4ccc992"
      },
      "execution_count": 12,
      "outputs": [
        {
          "output_type": "stream",
          "name": "stdout",
          "text": [
            "charles xavier prof x telepathy\n",
            "bobby drake iceman thermokinesis\n",
            "kurt wagner nightcrawler teleportation\n",
            "max eisenhardt magneto magnetokinesis\n",
            "kitty pryde shadowcat intangibility\n"
          ]
        }
      ]
    },
    {
      "cell_type": "markdown",
      "source": [
        "#### **Using * and zip to 'unzip'**"
      ],
      "metadata": {
        "id": "GJuRhq_6qHE0"
      }
    },
    {
      "cell_type": "markdown",
      "source": [
        "\n",
        "Let's play around with zip() a little more. There is no unzip function for doing the reverse of what zip() does. We can, however, reverse what has been zipped together by using zip() with a little help from *! * unpacks an iterable such as a list or a tuple into positional arguments in a function call.\n",
        "\n",
        "In this exercise, you will use * in a call to zip() to unpack the tuples produced by zip().\n",
        "\n",
        "Two tuples of strings, mutants and powers have been pre-loaded."
      ],
      "metadata": {
        "id": "apd4vU7gqHMq"
      }
    },
    {
      "cell_type": "code",
      "source": [
        "# Create a zip object from mutants and powers: z1\n",
        "z1 = zip(mutants, powers)\n",
        "\n",
        "# Print the tuples in z1 by unpacking with *\n",
        "print(*z1)"
      ],
      "metadata": {
        "colab": {
          "base_uri": "https://localhost:8080/"
        },
        "id": "1q47KYimqFng",
        "outputId": "9a1aa886-afb9-4a38-800a-53b5d13d8d7f"
      },
      "execution_count": 13,
      "outputs": [
        {
          "output_type": "stream",
          "name": "stdout",
          "text": [
            "('charles xavier', 'telepathy') ('bobby drake', 'thermokinesis') ('kurt wagner', 'teleportation') ('max eisenhardt', 'magnetokinesis') ('kitty pryde', 'intangibility')\n"
          ]
        }
      ]
    },
    {
      "cell_type": "code",
      "source": [
        "# Re-create a zip object from mutants and powers: z1\n",
        "z1 = zip(mutants, powers)\n",
        "\n",
        "# 'Unzip' the tuples in z1 by unpacking with * and zip(): result1, result2\n",
        "result1, result2 = zip(*z1)"
      ],
      "metadata": {
        "id": "T_biuLNRrZjL"
      },
      "execution_count": 18,
      "outputs": []
    },
    {
      "cell_type": "code",
      "source": [
        "result1"
      ],
      "metadata": {
        "colab": {
          "base_uri": "https://localhost:8080/"
        },
        "id": "uMLHL5pjr8YC",
        "outputId": "17249db0-8628-4339-b6b4-988640a9720e"
      },
      "execution_count": 19,
      "outputs": [
        {
          "output_type": "execute_result",
          "data": {
            "text/plain": [
              "('charles xavier',\n",
              " 'bobby drake',\n",
              " 'kurt wagner',\n",
              " 'max eisenhardt',\n",
              " 'kitty pryde')"
            ]
          },
          "metadata": {},
          "execution_count": 19
        }
      ]
    },
    {
      "cell_type": "code",
      "source": [
        "mutants"
      ],
      "metadata": {
        "colab": {
          "base_uri": "https://localhost:8080/"
        },
        "id": "v68BLrFMr9oR",
        "outputId": "0c49c550-c94d-4f02-e5f1-b7e6e5eed5d2"
      },
      "execution_count": 20,
      "outputs": [
        {
          "output_type": "execute_result",
          "data": {
            "text/plain": [
              "['charles xavier',\n",
              " 'bobby drake',\n",
              " 'kurt wagner',\n",
              " 'max eisenhardt',\n",
              " 'kitty pryde']"
            ]
          },
          "metadata": {},
          "execution_count": 20
        }
      ]
    },
    {
      "cell_type": "markdown",
      "source": [
        "#### **Processing large amounts of Twitter data**"
      ],
      "metadata": {
        "id": "mjJI2B0ur-10"
      }
    },
    {
      "cell_type": "markdown",
      "source": [
        "\n",
        "Sometimes, the data we have to process reaches a size that is too much for a computer's memory to handle. This is a common problem faced by data scientists. A solution to this is to process an entire data source chunk by chunk, instead of a single go all at once.\n",
        "\n",
        "In this exercise, you will do just that. You will process a large csv file of Twitter data in the same way that you processed 'tweets.csv' in Bringing it all together exercises of the prequel course, but this time, working on it in chunks of 10 entries at a time."
      ],
      "metadata": {
        "id": "hyH9pWNvr-9q"
      }
    },
    {
      "cell_type": "code",
      "source": [
        "import pandas as pd"
      ],
      "metadata": {
        "id": "BJ1y_0Xmr-BL"
      },
      "execution_count": 21,
      "outputs": []
    },
    {
      "cell_type": "code",
      "source": [
        "# Initialize an empty dictionary: counts_dict\n",
        "counts_dict = {}\n",
        "\n",
        "# Iterate over the file chunk by chunk\n",
        "for chunk in pd.read_csv('tweets.csv', chunksize=10):\n",
        "\n",
        "    # Iterate over the column in DataFrame\n",
        "    for entry in chunk['lang']:\n",
        "        if entry in counts_dict.keys():\n",
        "            counts_dict[entry] += 1\n",
        "        else:\n",
        "            counts_dict[entry] = 1\n",
        "\n",
        "# Print the populated dictionary\n",
        "print(counts_dict)"
      ],
      "metadata": {
        "colab": {
          "base_uri": "https://localhost:8080/"
        },
        "id": "PDssDKsQt6U2",
        "outputId": "4d027ab2-05ef-4c23-f737-bea19736f339"
      },
      "execution_count": 22,
      "outputs": [
        {
          "output_type": "stream",
          "name": "stdout",
          "text": [
            "{'en': 97, 'et': 1, 'und': 2}\n"
          ]
        }
      ]
    },
    {
      "cell_type": "markdown",
      "source": [
        "#### **Extracting information for large amounts of Twitter data**"
      ],
      "metadata": {
        "id": "C8Ln_xABvJIH"
      }
    },
    {
      "cell_type": "markdown",
      "source": [
        "\n",
        "Great job chunking out that file in the previous exercise. You now know how to deal with situations where you need to process a very large file and that's a very useful skill to have!\n",
        "\n",
        "It's good to know how to process a file in smaller, more manageable chunks, but it can become very tedious having to write and rewrite the same code for the same task each time. In this exercise, you will be making your code more reusable by putting your work in the last exercise in a function definition."
      ],
      "metadata": {
        "id": "oyq8Ae8IvJOb"
      }
    },
    {
      "cell_type": "code",
      "source": [
        "# Define count_entries()\n",
        "def count_entries(csv_file, c_size, colname):\n",
        "    \"\"\"Return a dictionary with counts of\n",
        "    occurrences as value for each key.\"\"\"\n",
        "    \n",
        "    # Initialize an empty dictionary: counts_dict\n",
        "    counts_dict = {}\n",
        "\n",
        "    # Iterate over the file chunk by chunk\n",
        "    for chunk in pd.read_csv(csv_file, chunksize = c_size):\n",
        "\n",
        "        # Iterate over the column in DataFrame\n",
        "        for entry in chunk[colname]:\n",
        "            if entry in counts_dict.keys():\n",
        "                counts_dict[entry] += 1\n",
        "            else:\n",
        "                counts_dict[entry] = 1\n",
        "\n",
        "    # Return counts_dict\n",
        "    return counts_dict\n",
        "\n",
        "# Call count_entries(): result_counts\n",
        "result_counts = count_entries('tweets.csv', 10, 'lang')\n",
        "\n",
        "# Print result_counts\n",
        "print(result_counts)"
      ],
      "metadata": {
        "colab": {
          "base_uri": "https://localhost:8080/"
        },
        "id": "I8fxL1WbvCVX",
        "outputId": "a0f0fde5-5445-46fa-9456-6f4644506c3f"
      },
      "execution_count": 23,
      "outputs": [
        {
          "output_type": "stream",
          "name": "stdout",
          "text": [
            "{'en': 97, 'et': 1, 'und': 2}\n"
          ]
        }
      ]
    }
  ]
}